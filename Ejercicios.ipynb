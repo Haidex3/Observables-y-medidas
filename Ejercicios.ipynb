{
 "cells": [
  {
   "cell_type": "markdown",
   "metadata": {},
   "source": [
    "# Observables y medidas\n",
    "# SIMULE EL PRIMER SISTEMA CUÁNTICO DESCRITO EN LA SECCIÓN 4.1.\n",
    "1. Calcular la probabilidad de encontrarlo en una posición en particular."
   ]
  },
  {
   "cell_type": "code",
   "execution_count": 49,
   "metadata": {},
   "outputs": [
    {
     "name": "stdout",
     "output_type": "stream",
     "text": [
      "The probability of finding the particle at position 2 is: 0.05263157894736841\n"
     ]
    }
   ],
   "source": [
    "import numpy as np\n",
    "class QuantumSystem:\n",
    "    def __init__(self, num_positions, ket_state):\n",
    "        self.num_positions = num_positions\n",
    "        self.ket_state = ket_state\n",
    "\n",
    "    def calculate_probability(self, position):\n",
    "        if position < 0 or position >= self.num_positions:\n",
    "            raise ValueError(\"Position out of range\")\n",
    "        amplitude = self.ket_state[position]\n",
    "        norm=np.linalg.norm(self.ket_state)\n",
    "        probability =  (abs(amplitude)/norm)**2\n",
    "        return probability\n",
    "\n",
    "# Example \n",
    "num_positions = 4\n",
    "key_state=[-3-1j,-2j,+1j,2]\n",
    "#ket_state = [(0.5+0j), 0, (0.3+0.1j), 0, (0.2-0.2j)] \n",
    "system = QuantumSystem(num_positions, key_state)\n",
    "desired_position = 2\n",
    "probability = system.calculate_probability(desired_position)\n",
    "print(f\"The probability of finding the particle at position {desired_position} is: {probability}\")\n"
   ]
  },
  {
   "cell_type": "markdown",
   "metadata": {},
   "source": [
    "2. Buscar la probabilidad de transitar del primer vector al segundo."
   ]
  },
  {
   "cell_type": "code",
   "execution_count": 58,
   "metadata": {},
   "outputs": [
    {
     "name": "stdout",
     "output_type": "stream",
     "text": [
      "La probabilidad de transitar del primer ket [-0.-1.j  1.+0.j] al segundo [ 1.+0.j -0.-1.j] es: 4.0\n"
     ]
    }
   ],
   "source": [
    "import numpy as np\n",
    "\n",
    "def probability_transition(ket1, ket2):\n",
    "    inner_product = np.dot(ket1, ket2)  # Calcular el producto interno\n",
    "    probability = np.abs(inner_product) ** 2  # Calcular el módulo al cuadrado\n",
    "    return probability\n",
    "\n",
    "# Ejemplo de uso\n",
    "ket1 = np.array([-1j,1])  # Primer ket de ejemplo\n",
    "ket2 = np.array([1,-1j])  # Segundo ket de ejemplo\n",
    "\n",
    "probability = probability_transition(ket1, ket2)\n",
    "print(f\"La probabilidad de transitar del primer ket {ket1} al segundo {ket2} es:\", probability)\n"
   ]
  },
  {
   "cell_type": "markdown",
   "metadata": {},
   "source": [
    "Recibir dos vectores y calcular la probabilidad de transitar de el uno al otro después de hacer la observación"
   ]
  },
  {
   "cell_type": "code",
   "execution_count": 56,
   "metadata": {},
   "outputs": [
    {
     "name": "stdout",
     "output_type": "stream",
     "text": [
      "La probabilidad de transitar del estado inicial al estado final es: 0.2499999999999999\n"
     ]
    }
   ],
   "source": [
    "import numpy as np\n",
    "\n",
    "def probability_transition(initial_state, final_state):\n",
    "    inner_product = np.vdot(final_state, initial_state)\n",
    "    probability = abs(inner_product) ** 2\n",
    "    return probability\n",
    "\n",
    "# Ejemplo de uso    \n",
    "initial_state = np.array([1/np.sqrt(2), 0, 1/np.sqrt(2)])\n",
    "final_state = np.array([0, 1/np.sqrt(2), 1/np.sqrt(2)]) \n",
    "\n",
    "probability = probability_transition(initial_state, final_state)\n",
    "print(\"La probabilidad de transitar del estado inicial al estado final es:\", probability)\n"
   ]
  },
  {
   "cell_type": "markdown",
   "metadata": {},
   "source": [
    "Con una matriz que describa un observable y un vector ket, el sistema revisa que la matriz sea hermitiana, y si lo es, calcula la media y la varianza del observable en el estado dado."
   ]
  },
  {
   "cell_type": "code",
   "execution_count": 2,
   "metadata": {},
   "outputs": [
    {
     "name": "stdout",
     "output_type": "stream",
     "text": [
      "Media del observable: [[1]]\n",
      "Varianza del observable: [[0]]\n"
     ]
    }
   ],
   "source": [
    "import numpy as np\n",
    "\n",
    "def es_hermitiana(matriz):\n",
    "    return np.allclose(matriz, matriz.conj().T)\n",
    "\n",
    "def media_varianza_observable(matriz_observable, vector_ket):\n",
    "    if not es_hermitiana(matriz_observable):\n",
    "        print(\"La matriz no es hermitiana.\")\n",
    "        return None, None\n",
    "\n",
    "    media = np.dot(vector_ket.conj().T, np.dot(matriz_observable, vector_ket)).real\n",
    "\n",
    "    varianza = np.dot(vector_ket.conj().T, np.dot(matriz_observable ** 2, vector_ket)).real - media ** 2\n",
    "\n",
    "    return media, varianza\n",
    "\n",
    "# Ejemplo de uso\n",
    "matriz_observable = np.array([[1, 0], [0, -1]])  \n",
    "vector_ket = np.array([[1], [0]])                \n",
    "\n",
    "media, varianza = media_varianza_observable(matriz_observable, vector_ket)\n",
    "\n",
    "if media is not None and varianza is not None:\n",
    "    print(\"Media del observable:\", media)\n",
    "    print(\"Varianza del observable:\", varianza)\n"
   ]
  },
  {
   "cell_type": "markdown",
   "metadata": {},
   "source": [
    "El sistema calcula los valores propios del observable y la probabilidad de que el sistema transite a alguno de los vectores propios después de la observación.\n",
    "\n"
   ]
  },
  {
   "cell_type": "code",
   "execution_count": 29,
   "metadata": {},
   "outputs": [
    {
     "name": "stdout",
     "output_type": "stream",
     "text": [
      "Eigenvalues: [ 0.70710678 -0.70710678]\n",
      "Eigenvectors:\n",
      " [[ 0.70710678 -0.70710678]\n",
      " [ 0.70710678  0.70710678]]\n",
      "La probabilidad de pasar al vector propio 1 es de: 0.5\n",
      "La probabilidad de pasar al vector propio 1 es de: 0.5\n"
     ]
    },
    {
     "data": {
      "image/png": "[encoded data removed]",
      "text/plain": [
       "<Figure size 640x480 with 1 Axes>"
      ]
     },
     "metadata": {},
     "output_type": "display_data"
    }
   ],
   "source": [
    "import numpy as np\n",
    "def normalize(vector):\n",
    "    norma = np.linalg.norm(vector)\n",
    "    normal = vector / norma\n",
    "    return normal\n",
    "def eigen(matriz):\n",
    "    eigenvalues, eigenvectors = np.linalg.eig(observable)\n",
    "    print(\"Eigenvalues:\", eigenvalues)\n",
    "    print(\"Eigenvectors:\\n\", eigenvectors)\n",
    "    return eigenvectors\n",
    "    \n",
    "\n",
    "#Ejercicio 4.3.1\n",
    "observable = (1/np.sqrt(2)) * np.array([[0, 1], [1, 0]])\n",
    "ket=np.array([1, 0])\n",
    "ket_normal = normalize(ket)\n",
    "eigenvectors = eigen(observable)\n",
    "p1 = np.round(np.linalg.norm(np.vdot(ket_normal, eigenvectors[0]))**2, 2)\n",
    "p2 = np.round(np.linalg.norm(np.vdot(ket_normal, eigenvectors[1]))**2, 2)\n",
    "print(\"La probabilidad de pasar al vector propio 1 es de:\", p1)\n",
    "print(\"La probabilidad de pasar al vector propio 1 es de:\", p2)\n",
    "\n",
    "#Ejercicio 4.3.2\n",
    "import matplotlib.pyplot as plt\n",
    "probFinal=[p1,p2]\n",
    "indices = [\"vector1\", \"vector2\"]\n",
    "plt.bar(indices, probFinal)\n",
    "plt.xlabel('Index')\n",
    "plt.ylabel('Value')\n",
    "plt.title('Bar Plot of Resulting Vector')\n",
    "plt.show()"
   ]
  },
  {
   "cell_type": "code",
   "execution_count": 21,
   "metadata": {},
   "outputs": [
    {
     "name": "stdout",
     "output_type": "stream",
     "text": [
      "Valores propios de Sx:\n",
      "[ 0.70710678 -0.70710678]\n",
      "\n",
      "Vectores propios de Sx:\n",
      "[[ 0.70710678 -0.70710678]\n",
      " [ 0.70710678  0.70710678]]\n",
      "\n",
      "Probabilidades de transición a cada vector propio:\n",
      "Probabilidad de transición al vector propio 1: 0.4999999999999999\n",
      "Probabilidad de transición al vector propio 2: 0.4999999999999999\n"
     ]
    }
   ],
   "source": [
    "import numpy as np\n",
    "\n",
    "# Definir la matriz Sx\n",
    "Sx = (1/np.sqrt(2)) * np.array([[0, 1], [1, 0]])\n",
    "\n",
    "# Encontrar los vectores propios y valores propios de Sx\n",
    "eigenvalues, eigenvectors = np.linalg.eig(Sx)\n",
    "\n",
    "print(\"Valores propios de Sx:\")\n",
    "print(eigenvalues)\n",
    "\n",
    "print(\"\\nVectores propios de Sx:\")\n",
    "print(eigenvectors)\n",
    "\n",
    "# Definir el estado inicial |psi>\n",
    "psi_initial = np.array([1, 0])  # Por ejemplo, estado inicial spin up\n",
    "\n",
    "# Calcular las probabilidades de transición a cada vector propio\n",
    "transition_probabilities = []\n",
    "for eigenvector in eigenvectors.T:\n",
    "    transition_probability = np.abs(np.vdot(eigenvector, psi_initial))**2\n",
    "    transition_probabilities.append(transition_probability)\n",
    "\n",
    "# Imprimir las probabilidades de transición\n",
    "print(\"\\nProbabilidades de transición a cada vector propio:\")\n",
    "for i, probability in enumerate(transition_probabilities):\n",
    "    print(f\"Probabilidad de transición al vector propio {i+1}: {probability}\")\n"
   ]
  },
  {
   "cell_type": "markdown",
   "metadata": {},
   "source": [
    "Con una serie de matrices Un el sistema calcula el estado final a partir de un estado inicial."
   ]
  },
  {
   "cell_type": "code",
   "execution_count": 20,
   "metadata": {},
   "outputs": [
    {
     "name": "stdout",
     "output_type": "stream",
     "text": [
      "Estado final:\n",
      "[0.+0.70710678j 0.-0.70710678j]\n"
     ]
    }
   ],
   "source": [
    "import numpy as np\n",
    "matz=[]\n",
    "def def_Mat(new_mat,matz):\n",
    "    matz.append(new_mat)\n",
    "    return matz\n",
    "#Ejemplo\n",
    "matz=def_Mat(np.array([[1, 0], [0, 1]]),matz)\n",
    "matz=def_Mat(np.array([[0, -1j], [1j, 0]]),matz)\n",
    "matz=def_Mat(np.array([[1/np.sqrt(2), 1/np.sqrt(2)], [1/np.sqrt(2), -1/np.sqrt(2)]]),matz)\n",
    "\n",
    "def cal_final(matz):\n",
    "    psi_final=np.array([1,0])\n",
    "    for rep in range(len(matz)):\n",
    "        psi_final=np.dot(matz[rep],psi_final)\n",
    "    return psi_final\n",
    "print(\"Estado final:\")\n",
    "print(cal_final(matz))\n"
   ]
  },
  {
   "cell_type": "code",
   "execution_count": 37,
   "metadata": {},
   "outputs": [
    {
     "name": "stdout",
     "output_type": "stream",
     "text": [
      "La matriz U1 es unitaria es True\n",
      "La matriz U2 es unitaria es True\n"
     ]
    }
   ],
   "source": [
    "#Ejercicio 4.4.1\n",
    "U1=np.array([[0,1],[1,0]])\n",
    "is_unitary = np.allclose(np.dot(U1, U1.conj().T), np.eye(2))\n",
    "print(\"La matriz U1 es unitaria es\",is_unitary)\n",
    "U2=np.array([[np.sqrt(2)/2,np.sqrt(2)/2],[np.sqrt(2)/2,-np.sqrt(2)/2]])\n",
    "is_unitary = np.allclose(np.dot(U2, U2.conj().T), np.eye(2))\n",
    "print(\"La matriz U2 es unitaria es\",is_unitary)\n"
   ]
  },
  {
   "cell_type": "code",
   "execution_count": 53,
   "metadata": {},
   "outputs": [
    {
     "name": "stdout",
     "output_type": "stream",
     "text": [
      "Result after 3 moments  [[ 0.        +0.j        ]\n",
      " [-0.70710678+0.70710678j]\n",
      " [ 0.        +0.j        ]\n",
      " [ 0.        +0.j        ]]\n",
      "La probabilidad de que la bola se encuentre en el punto 3 es de: [0.]\n"
     ]
    }
   ],
   "source": [
    "#Ejercicio 4.4.2\n",
    "import numpy as np\n",
    "import matplotlib.pyplot as plt\n",
    "\n",
    "# Define two 3x3 complex matrices\n",
    "ma1 = np.array([[0,1/np.sqrt(2),1/np.sqrt(2),0],\n",
    "                [1j/np.sqrt(2),0,0,1/np.sqrt(2)],\n",
    "                [1/np.sqrt(2),0,0,1j/np.sqrt(2)],\n",
    "                [0,1/np.sqrt(2),-1/np.sqrt(2),0]])\n",
    "\n",
    "ma2 = np.array([[1], [0], [0], [0]])\n",
    "#print(\"Input: \", ma1,ma2)\n",
    "\n",
    "# Multiplying a 3x3 matrix by a 3x1 vector\n",
    "x2 = np.dot(ma1, ma2)\n",
    "x3=np.dot(ma1,x2)\n",
    "x4=np.dot(ma1,x3)\n",
    "print(\"Result after 3 moments \", x4)\n",
    "\n",
    "print(\"La probabilidad de que la bola se encuentre en el punto 3 es de:\",abs(x4[2]))\n",
    "\n"
   ]
  },
  {
   "cell_type": "code",
   "execution_count": null,
   "metadata": {},
   "outputs": [],
   "source": []
  }
 ],
 "metadata": {
  "kernelspec": {
   "display_name": "Python 3",
   "language": "python",
   "name": "python3"
  },
  "language_info": {
   "codemirror_mode": {
    "name": "ipython",
    "version": 3
   },
   "file_extension": ".py",
   "mimetype": "text/x-python",
   "name": "python",
   "nbconvert_exporter": "python",
   "pygments_lexer": "ipython3",
   "version": "3.11.4"
  }
 },
 "nbformat": 4,
 "nbformat_minor": 2
}
